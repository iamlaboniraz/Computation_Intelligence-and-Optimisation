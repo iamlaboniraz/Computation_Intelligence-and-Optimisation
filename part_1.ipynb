{
 "cells": [
  {
   "cell_type": "code",
   "execution_count": 11,
   "id": "fe993149-e40f-43a3-b052-b85a7e63f0e0",
   "metadata": {},
   "outputs": [],
   "source": [
    "class Person:\n",
    "    def __init__(self, name:str, age:int, profession:str):\n",
    "        self.name = name\n",
    "        self.age = age\n",
    "        self.profession = profession\n",
    "    def introduce(self):\n",
    "        return f\"Hi, my name is {self.name}, I am {self.age} years old, and I work as a {self.profession}.\"\n",
    "    def celebrate_birthday(self):\n",
    "        self.age +=1"
   ]
  },
  {
   "cell_type": "code",
   "execution_count": 13,
   "id": "1f17e621-0fe4-4cfd-9031-32c27a8cb2a8",
   "metadata": {},
   "outputs": [],
   "source": [
    "john = Person(\"John\",30,\"Enginner\")\n",
    "sarah = Person(\"Sarah\",25,\"Doctor\")\n",
    "mike = Person(\"Mike\",30,\"Artist\")"
   ]
  },
  {
   "cell_type": "code",
   "execution_count": 15,
   "id": "efbd01f2-6cc9-4790-852c-16edefaa16d6",
   "metadata": {},
   "outputs": [
    {
     "name": "stdout",
     "output_type": "stream",
     "text": [
      "Hi, my name is John, I am 30 years old, and I work as a Enginner.\n",
      "Hi, my name is Sarah, I am 25 years old, and I work as a Doctor.\n",
      "Hi, my name is Mike, I am 30 years old, and I work as a Artist.\n"
     ]
    }
   ],
   "source": [
    "print(john.introduce())\n",
    "print(sarah.introduce())\n",
    "print(mike.introduce())"
   ]
  },
  {
   "cell_type": "code",
   "execution_count": 17,
   "id": "14df5212-e808-4e28-a93f-3a93ca6f3635",
   "metadata": {},
   "outputs": [
    {
     "name": "stdout",
     "output_type": "stream",
     "text": [
      "Mike's initial age: 30\n",
      "Mike's age after his birthday:  31\n"
     ]
    }
   ],
   "source": [
    "print(\"Mike's initial age:\", mike.age)\n",
    "mike.celebrate_birthday()\n",
    "print(\"Mike's age after his birthday: \", mike.age)"
   ]
  },
  {
   "cell_type": "code",
   "execution_count": 19,
   "id": "db5ec854-fc72-4704-a094-d87d97605af3",
   "metadata": {},
   "outputs": [],
   "source": [
    "# Base class animal\n",
    "class Animal:\n",
    "    def __init__(self, name:str, sound:str):\n",
    "        self.name = name\n",
    "        self.sound = sound\n",
    "    def speak(self):\n",
    "        return f\"{self.name} says {self.sound}\"\n",
    "\n",
    "# subclass dog inherits from animal\n",
    "class Dog(Animal):\n",
    "    def __init__(self, name:str, breed:str, sound=\"woof\"):\n",
    "        super().__init__(name=name, sound=sound)\n",
    "        self.breed = breed\n",
    "    def tail_wagging(self):\n",
    "        return f\"{self.name} is wagging it's tail\"\n",
    "\n",
    "class Bird(Animal):\n",
    "    def __init__(self, name:str, species:str, can_fly:bool):\n",
    "        super().__init__(name,\"Tweet\")\n",
    "        self.species = species\n",
    "        self.can_fly = can_fly\n",
    "    def fly(self):\n",
    "        if self.can_fly:\n",
    "            return f\"{self.name} is flying high!\"\n",
    "        else:\n",
    "            return f\"{self.name} cannot fly.\"\n"
   ]
  },
  {
   "cell_type": "code",
   "execution_count": 25,
   "id": "08bd76a3-5182-4c86-bf5d-436108abdaae",
   "metadata": {},
   "outputs": [],
   "source": [
    "dog1 = Dog(name=\"Buddy\", breed=\"Golden Retriever\")\n",
    "dog2 = Dog(name=\"Max\", breed=\"German Shepherd\")\n",
    "\n",
    "bird1 = Bird(name=\"Skyler\", species=\"parrot\", can_fly=True)\n",
    "bird2 = Bird(name=\"Cluckers\", species=\"chicken\", can_fly=False)"
   ]
  },
  {
   "cell_type": "code",
   "execution_count": 27,
   "id": "86351889-543e-46f4-b24d-e699514a94bb",
   "metadata": {},
   "outputs": [
    {
     "name": "stdout",
     "output_type": "stream",
     "text": [
      "Golden Retriever\n",
      "German Shepherd\n",
      "True\n",
      "False\n"
     ]
    }
   ],
   "source": [
    "print(dog1.breed)\n",
    "print(dog2.breed)\n",
    "\n",
    "print(bird1.can_fly)\n",
    "print(bird2.can_fly)"
   ]
  },
  {
   "cell_type": "code",
   "execution_count": 31,
   "id": "f4457225-e98c-4bf7-bb77-0fb402849049",
   "metadata": {},
   "outputs": [
    {
     "name": "stdout",
     "output_type": "stream",
     "text": [
      "Buddy is wagging it's tail\n",
      "Skyler is flying high!\n"
     ]
    }
   ],
   "source": [
    "print(dog1.tail_wagging())\n",
    "print(bird1.fly())"
   ]
  },
  {
   "cell_type": "code",
   "execution_count": null,
   "id": "c3b4115b-3d9e-463c-b842-2085a4a8eb70",
   "metadata": {},
   "outputs": [],
   "source": []
  }
 ],
 "metadata": {
  "kernelspec": {
   "display_name": "Python (venv)",
   "language": "python",
   "name": "venv"
  },
  "language_info": {
   "codemirror_mode": {
    "name": "ipython",
    "version": 3
   },
   "file_extension": ".py",
   "mimetype": "text/x-python",
   "name": "python",
   "nbconvert_exporter": "python",
   "pygments_lexer": "ipython3",
   "version": "3.12.2"
  }
 },
 "nbformat": 4,
 "nbformat_minor": 5
}
