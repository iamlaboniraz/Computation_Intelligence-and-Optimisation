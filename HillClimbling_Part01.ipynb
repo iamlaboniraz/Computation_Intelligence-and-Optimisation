{
 "cells": [
  {
   "cell_type": "code",
   "execution_count": 1,
   "id": "b4f4a49f-1060-4aea-a25b-288ce92bf084",
   "metadata": {},
   "outputs": [],
   "source": [
    "import sys\n",
    "sys.path.append('..')"
   ]
  },
  {
   "cell_type": "code",
   "execution_count": 3,
   "id": "a99f2743-ff8e-4d58-93ad-81d09d1435a4",
   "metadata": {},
   "outputs": [],
   "source": [
    "from abc import ABC, abstractmethod\n",
    "from random import randint"
   ]
  },
  {
   "cell_type": "code",
   "execution_count": 5,
   "id": "ba5a3126-f994-43b1-a90c-75aa3cfef1a8",
   "metadata": {},
   "outputs": [],
   "source": [
    "class Solution(ABC):\n",
    "    def __init__(self, repr=None):\n",
    "        if repr == None:\n",
    "            repr = self.random_initial_representation()\n",
    "        self.repr = repr\n",
    "    def __repr__(self):\n",
    "        return str(self.repr)\n",
    "    @abstractmethod\n",
    "    def fitness(self):\n",
    "        pass\n",
    "    @abstractmethod\n",
    "    def random_initial_representation():\n",
    "        pass\n",
    "    "
   ]
  },
  {
   "cell_type": "code",
   "execution_count": 7,
   "id": "ff522459-6f16-429c-883b-5cd3493467d2",
   "metadata": {},
   "outputs": [],
   "source": [
    "from copy import deepcopy\n",
    "\n",
    "def hill_climbing(initial_solution: Solution, maximization=False, max_iter=99999, verbose=False):\n",
    "    current = initial_solution\n",
    "    improved = True\n",
    "    iter = 1\n",
    "    while improved:\n",
    "        if verbose:\n",
    "            print(f\"Current solution: {current} with fitness {current.fitness()}\")\n",
    "        improved = False\n",
    "        neighbors = current.get_neighbors()\n",
    "        for neighbor in neighbors:\n",
    "            if verbose:\n",
    "                print(f\"Neighbor: {neighbor} with fitness {neighbor.fitness()}\")\n",
    "            if maximization and (neighbor.fitness() >= current.fitness()):\n",
    "                current = deepcopy(neighbor)\n",
    "                improved = True\n",
    "            elif not maximization and (neighbor.fitness() <= current.fitness()):\n",
    "                current = deepcopy = True\n",
    "        iter +=1\n",
    "        if iter == max_iter:\n",
    "            break\n",
    "    return current\n",
    "            "
   ]
  },
  {
   "cell_type": "code",
   "execution_count": 39,
   "id": "6dbe48e2-d7d3-47c0-9d6a-1f19c89b235c",
   "metadata": {},
   "outputs": [],
   "source": [
    "class InitBinSolution(Solution):\n",
    "    def __init__(self, repr=None):\n",
    "        super().__init__(repr=repr)\n",
    "    def random_initial_representation(self):\n",
    "        random_n = randint(1,15)\n",
    "        return str(format(random_n,'04b'))\n",
    "    def fitness(self):\n",
    "        return self.repr.count('1')"
   ]
  },
  {
   "cell_type": "code",
   "execution_count": 51,
   "id": "5c2fa5bb-2099-461b-ae49-9ff4d23f4213",
   "metadata": {},
   "outputs": [
    {
     "name": "stdout",
     "output_type": "stream",
     "text": [
      "solution 0001 with fitness 1\n",
      "random solution 1010 with fitness 2\n"
     ]
    }
   ],
   "source": [
    "solution = InitBinSolution('0001')\n",
    "solution_random = InitBinSolution()\n",
    "\n",
    "print(f\"solution {solution} with fitness {solution.fitness()}\")\n",
    "print(f\"random solution {solution_random} with fitness {solution_random.fitness()}\")"
   ]
  },
  {
   "cell_type": "code",
   "execution_count": null,
   "id": "acb10d67-32e1-4d3c-b394-8d76b75bf252",
   "metadata": {},
   "outputs": [],
   "source": []
  },
  {
   "cell_type": "code",
   "execution_count": null,
   "id": "238bd5c1-60af-4ff5-aebd-1928c447710a",
   "metadata": {},
   "outputs": [],
   "source": []
  },
  {
   "cell_type": "code",
   "execution_count": null,
   "id": "5708b300-e94c-49bf-b418-48bf8a11a336",
   "metadata": {},
   "outputs": [],
   "source": []
  },
  {
   "cell_type": "code",
   "execution_count": null,
   "id": "236dfde8-7642-4c76-abea-8c8979780a98",
   "metadata": {},
   "outputs": [],
   "source": []
  },
  {
   "cell_type": "code",
   "execution_count": null,
   "id": "491423df-5667-4d7f-a696-43b0659593b8",
   "metadata": {},
   "outputs": [],
   "source": []
  },
  {
   "cell_type": "code",
   "execution_count": null,
   "id": "472b25d1-df37-442c-a80a-a05243076789",
   "metadata": {},
   "outputs": [],
   "source": []
  }
 ],
 "metadata": {
  "kernelspec": {
   "display_name": "Python (venv)",
   "language": "python",
   "name": "venv"
  },
  "language_info": {
   "codemirror_mode": {
    "name": "ipython",
    "version": 3
   },
   "file_extension": ".py",
   "mimetype": "text/x-python",
   "name": "python",
   "nbconvert_exporter": "python",
   "pygments_lexer": "ipython3",
   "version": "3.12.2"
  }
 },
 "nbformat": 4,
 "nbformat_minor": 5
}
